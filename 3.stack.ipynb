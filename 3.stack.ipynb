{
 "cells": [
  {
   "cell_type": "code",
   "execution_count": null,
   "id": "07f74a16",
   "metadata": {},
   "outputs": [
    {
     "name": "stdout",
     "output_type": "stream",
     "text": [
      "['A', 'B', 'C']\n",
      "C\n",
      ">>POppe C ['A', 'B']\n",
      "Emprty False False True\n"
     ]
    }
   ],
   "source": [
    "# Staack\n",
    "\n",
    "\n",
    "stack = []\n",
    "\n",
    "stack.append('A')\n",
    "stack.append('B')\n",
    "stack.append('C')\n",
    "print(stack)\n",
    "\n",
    "# Top Element\n",
    "print(stack[-1])\n",
    "# pop eleme\n",
    "\n",
    "popped_ele = stack.pop()\n",
    "\n",
    "print(\">>POppe\", popped_ele, stack)\n",
    "\n",
    "\n",
    "isEmpty = not bool(stack)\n",
    "print(\"Emprty\", isEmpty, bool([]), bool([1]))"
   ]
  },
  {
   "cell_type": "code",
   "execution_count": null,
   "id": "ef5a9a0d",
   "metadata": {},
   "outputs": [],
   "source": [
    "# Stack Class\n",
    "\n",
    "\n",
    "class Stack:\n",
    "    def __init__(self) -> None:\n",
    "        self.stack = []\n",
    "\n",
    "    def push(self, ele):\n",
    "        self.stack.append(ele)\n",
    "\n",
    "    def pop(self):\n",
    "        if self.isEmpty():\n",
    "            return \"Stack is Empty\"\n",
    "        return self.stack.pop()\n",
    "\n",
    "    def isEmpty(self):\n",
    "        return not bool(self.stack)\n",
    "\n",
    "    def peek(self):\n",
    "        return self.stack[-1]\n",
    "\n",
    "    @property\n",
    "    def size(self):\n",
    "        return len(self.stack)"
   ]
  },
  {
   "cell_type": "code",
   "execution_count": null,
   "id": "a633d041",
   "metadata": {},
   "outputs": [
    {
     "data": {
      "text/plain": [
       "[10, 20, 23, 40]"
      ]
     },
     "execution_count": 15,
     "metadata": {},
     "output_type": "execute_result"
    }
   ],
   "source": [
    "myStack = Stack()\n",
    "myStack.push(10)\n",
    "myStack.push(20)\n",
    "myStack.push(23)\n",
    "myStack.push(40)\n",
    "myStack.stack"
   ]
  },
  {
   "cell_type": "code",
   "execution_count": 16,
   "id": "7aa86316",
   "metadata": {},
   "outputs": [
    {
     "data": {
      "text/plain": [
       "40"
      ]
     },
     "execution_count": 16,
     "metadata": {},
     "output_type": "execute_result"
    }
   ],
   "source": [
    "myStack.pop()"
   ]
  },
  {
   "cell_type": "code",
   "execution_count": 17,
   "id": "ba1181af",
   "metadata": {},
   "outputs": [
    {
     "data": {
      "text/plain": [
       "False"
      ]
     },
     "execution_count": 17,
     "metadata": {},
     "output_type": "execute_result"
    }
   ],
   "source": [
    "myStack.isEmpty()"
   ]
  },
  {
   "cell_type": "code",
   "execution_count": 18,
   "id": "cddd42c3",
   "metadata": {},
   "outputs": [],
   "source": [
    "myStack.push(50)"
   ]
  },
  {
   "cell_type": "code",
   "execution_count": 20,
   "id": "93fb9058",
   "metadata": {},
   "outputs": [
    {
     "data": {
      "text/plain": [
       "4"
      ]
     },
     "execution_count": 20,
     "metadata": {},
     "output_type": "execute_result"
    }
   ],
   "source": [
    "myStack.size"
   ]
  },
  {
   "cell_type": "code",
   "execution_count": null,
   "id": "2584eadc",
   "metadata": {},
   "outputs": [],
   "source": []
  },
  {
   "cell_type": "markdown",
   "id": "d1fdd3e9",
   "metadata": {},
   "source": [
    "# Create Stack Using Linked List\n"
   ]
  },
  {
   "cell_type": "code",
   "execution_count": 32,
   "id": "1d832264",
   "metadata": {},
   "outputs": [],
   "source": [
    "class Node:\n",
    "    def __init__(self, value) -> None:\n",
    "        self.value = value\n",
    "        self.next = None\n",
    "\n",
    "\n",
    "class Stack:\n",
    "    def __init__(self) -> None:\n",
    "        self.head = None\n",
    "        self.size = 0\n",
    "\n",
    "    def push(self, value):\n",
    "        new_node = Node(value)\n",
    "        if self.head:\n",
    "            new_node.next = self.head\n",
    "        self.head = new_node\n",
    "        self.size += 1\n",
    "\n",
    "    def isEmpty(self):\n",
    "        return self.size == 0\n",
    "\n",
    "    def pop(self):\n",
    "        if self.isEmpty():\n",
    "            return \"Stack is Empty\"\n",
    "        popped_ele = self.head\n",
    "        self.head = self.head.next\n",
    "        self.size -= 1\n",
    "        return popped_ele\n",
    "\n",
    "    def peek(self):\n",
    "        if self.isEmpty():\n",
    "            return \"Stack is Empty\"\n",
    "        return self.head.value\n",
    "\n",
    "    def stackSize(self):\n",
    "        return self.size\n",
    "\n",
    "    def traverseAndPrint(self):\n",
    "        currentNode = self.head\n",
    "        while currentNode:\n",
    "            print(currentNode.value, end=\" -> \")\n",
    "            currentNode = currentNode.next\n",
    "        print()"
   ]
  },
  {
   "cell_type": "code",
   "execution_count": null,
   "id": "d82a2115",
   "metadata": {},
   "outputs": [
    {
     "name": "stdout",
     "output_type": "stream",
     "text": [
      "Linked lst\n",
      "D -> C -> B -> A -> \n",
      "C -> B -> A -> \n",
      "Emprty: False\n"
     ]
    },
    {
     "data": {
      "text/plain": [
       "3"
      ]
     },
     "execution_count": 34,
     "metadata": {},
     "output_type": "execute_result"
    }
   ],
   "source": [
    "myStack = Stack()\n",
    "myStack.push('A')\n",
    "myStack.push('B')\n",
    "myStack.push('C')\n",
    "myStack.push('D')\n",
    "print(\"Linked lst\")\n",
    "myStack.traverseAndPrint()\n",
    "myStack.peek()\n",
    "myStack.pop()\n",
    "myStack.traverseAndPrint()\n",
    "myStack.size\n",
    "print(\"Emprty:\", myStack.isEmpty())\n",
    "myStack.stackSize()"
   ]
  },
  {
   "cell_type": "code",
   "execution_count": null,
   "id": "b5dfd9ff",
   "metadata": {},
   "outputs": [],
   "source": []
  }
 ],
 "metadata": {
  "kernelspec": {
   "display_name": "Python 3",
   "language": "python",
   "name": "python3"
  },
  "language_info": {
   "codemirror_mode": {
    "name": "ipython",
    "version": 3
   },
   "file_extension": ".py",
   "mimetype": "text/x-python",
   "name": "python",
   "nbconvert_exporter": "python",
   "pygments_lexer": "ipython3",
   "version": "3.11.0"
  }
 },
 "nbformat": 4,
 "nbformat_minor": 5
}
