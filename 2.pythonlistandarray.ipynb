{
 "cells": [
  {
   "cell_type": "code",
   "execution_count": 1,
   "id": "1c80cae2",
   "metadata": {},
   "outputs": [],
   "source": [
    "x=[1,2,3]\n"
   ]
  },
  {
   "cell_type": "code",
   "execution_count": 3,
   "id": "a75dbe67",
   "metadata": {},
   "outputs": [
    {
     "name": "stdout",
     "output_type": "stream",
     "text": [
      "MIN Vlaue 4\n"
     ]
    }
   ],
   "source": [
    "# Get Min value \n",
    "my_array = [7, 12, 9, 4, 11, 8]\n",
    "\n",
    "min_value=my_array[0]\n",
    "\n",
    "for i in my_array:\n",
    "    if i<min_value:\n",
    "        min_value=i\n",
    "print(\"MIN Vlaue\",min_value)        "
   ]
  },
  {
   "cell_type": "code",
   "execution_count": null,
   "id": "fd0d03d5",
   "metadata": {},
   "outputs": [],
   "source": []
  }
 ],
 "metadata": {
  "kernelspec": {
   "display_name": "Python 3",
   "language": "python",
   "name": "python3"
  },
  "language_info": {
   "codemirror_mode": {
    "name": "ipython",
    "version": 3
   },
   "file_extension": ".py",
   "mimetype": "text/x-python",
   "name": "python",
   "nbconvert_exporter": "python",
   "pygments_lexer": "ipython3",
   "version": "3.11.0"
  }
 },
 "nbformat": 4,
 "nbformat_minor": 5
}
