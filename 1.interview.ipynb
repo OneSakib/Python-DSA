{
 "cells": [
  {
   "cell_type": "markdown",
   "id": "1f30278f",
   "metadata": {},
   "source": [
    "# Reverse an String"
   ]
  },
  {
   "cell_type": "code",
   "execution_count": 1,
   "id": "348ddae9",
   "metadata": {},
   "outputs": [],
   "source": [
    "def reverser_str(data):\n",
    "    result=\"\"\n",
    "    for char in data:\n",
    "        result=char+result\n",
    "    return result"
   ]
  },
  {
   "cell_type": "code",
   "execution_count": 3,
   "id": "a4df8da8",
   "metadata": {},
   "outputs": [
    {
     "name": "stdout",
     "output_type": "stream",
     "text": [
      "nohtyP\n"
     ]
    }
   ],
   "source": [
    "print(reverser_str(data=\"Python\"))"
   ]
  },
  {
   "cell_type": "markdown",
   "id": "1536983d",
   "metadata": {},
   "source": [
    "# Delete all constant from a give string \"Python and Data Science\""
   ]
  },
  {
   "cell_type": "code",
   "execution_count": 3,
   "id": "df5299fa",
   "metadata": {},
   "outputs": [
    {
     "name": "stdout",
     "output_type": "stream",
     "text": [
      "Pythn nd Dt Scnc\n"
     ]
    }
   ],
   "source": [
    "data=\"Python and Data Science\"\n",
    "new_data=\"\"\n",
    "for char in data:\n",
    "    if char.lower() not in  'aeiou':\n",
    "        new_data+=char\n",
    "print(new_data)"
   ]
  },
  {
   "cell_type": "code",
   "execution_count": 3,
   "id": "620c94d8",
   "metadata": {},
   "outputs": [
    {
     "name": "stdout",
     "output_type": "stream",
     "text": [
      ">>Total Prime number: 1637\n"
     ]
    }
   ],
   "source": [
    "# WAP that will find the sum of all the prime number between 1 to n\n",
    "# Exm 323 -- 323\n",
    "\n",
    "def is_prime(num):\n",
    "    if num<=1:\n",
    "        return False\n",
    "    elif num <=3:\n",
    "        return True\n",
    "    elif num%2==0 or num%3==0:\n",
    "        return False\n",
    "    return True\n",
    "n=100\n",
    "total=0\n",
    "for i in range(100):\n",
    "    if is_prime(i):\n",
    "        total+=i\n",
    "print(\">>Total Prime number:\",total)        \n"
   ]
  },
  {
   "cell_type": "code",
   "execution_count": null,
   "id": "b637431b",
   "metadata": {},
   "outputs": [],
   "source": []
  }
 ],
 "metadata": {
  "kernelspec": {
   "display_name": "Python 3",
   "language": "python",
   "name": "python3"
  },
  "language_info": {
   "codemirror_mode": {
    "name": "ipython",
    "version": 3
   },
   "file_extension": ".py",
   "mimetype": "text/x-python",
   "name": "python",
   "nbconvert_exporter": "python",
   "pygments_lexer": "ipython3",
   "version": "3.11.0"
  }
 },
 "nbformat": 4,
 "nbformat_minor": 5
}
