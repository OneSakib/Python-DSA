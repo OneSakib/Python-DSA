{
 "cells": [
  {
   "cell_type": "markdown",
   "id": "9d6e55a5",
   "metadata": {},
   "source": [
    "# Queue Using List\n"
   ]
  },
  {
   "cell_type": "code",
   "execution_count": null,
   "id": "1a8e892d",
   "metadata": {},
   "outputs": [
    {
     "name": "stdout",
     "output_type": "stream",
     "text": [
      ">Qu ['A', 'B', 'C', 'D']\n"
     ]
    },
    {
     "data": {
      "text/plain": [
       "3"
      ]
     },
     "execution_count": 9,
     "metadata": {},
     "output_type": "execute_result"
    }
   ],
   "source": [
    "queue = []\n",
    "queue.append('A')\n",
    "queue.append('B')\n",
    "queue.append('C')\n",
    "queue.append('D')\n",
    "print(\">Qu\", queue)\n",
    "# pee\n",
    "\n",
    "queue[0]\n",
    "\n",
    "# Dequeue\n",
    "queue.pop(0)\n",
    "\n",
    "\n",
    "isEmpty = not bool(queue)\n",
    "isEmpty\n",
    "\n",
    "\n",
    "len(queue)"
   ]
  },
  {
   "cell_type": "code",
   "execution_count": null,
   "id": "0dfb583e",
   "metadata": {},
   "outputs": [
    {
     "data": {
      "text/plain": [
       "False"
      ]
     },
     "execution_count": 15,
     "metadata": {},
     "output_type": "execute_result"
    }
   ],
   "source": [
    "# Queue Class\n",
    "\n",
    "\n",
    "class Queue:\n",
    "    def __init__(self) -> None:\n",
    "        self.queue = []\n",
    "\n",
    "    def isEmpty(self):\n",
    "        return not bool(self.queue)\n",
    "\n",
    "    def size(self):\n",
    "        return len(queue)\n",
    "\n",
    "    def peek(self):\n",
    "        return self.queue[0]\n",
    "\n",
    "    def dequeue(self):\n",
    "        if self.isEmpty():\n",
    "            return \"Stack is Empty\"\n",
    "        return self.queue.pop(0)\n",
    "\n",
    "    def enqueue(self, ele):\n",
    "        self.queue.append(ele)\n",
    "\n",
    "\n",
    "myQueue = Queue()\n",
    "\n",
    "myQueue.enqueue('10')\n",
    "myQueue.enqueue('20')\n",
    "myQueue.enqueue('30')\n",
    "myQueue.enqueue('40')\n",
    "myQueue.peek()\n",
    "myQueue.dequeue()\n",
    "myQueue.queue\n",
    "myQueue.size()\n",
    "myQueue.isEmpty()"
   ]
  },
  {
   "cell_type": "markdown",
   "id": "6c95b96a",
   "metadata": {},
   "source": [
    "# Queue Using Linked List\n"
   ]
  },
  {
   "cell_type": "code",
   "execution_count": 24,
   "id": "5bc64418",
   "metadata": {},
   "outputs": [
    {
     "name": "stdout",
     "output_type": "stream",
     "text": [
      "A -> B -> C -> \n",
      "B -> C -> \n"
     ]
    },
    {
     "data": {
      "text/plain": [
       "2"
      ]
     },
     "execution_count": 24,
     "metadata": {},
     "output_type": "execute_result"
    }
   ],
   "source": [
    "class Node:\n",
    "    def __init__(self, data):\n",
    "        self.data = data\n",
    "        self.next = None\n",
    "\n",
    "\n",
    "class Queue:\n",
    "    def __init__(self) -> None:\n",
    "        self.front = None\n",
    "        self.rear = None\n",
    "        self.length = 0\n",
    "\n",
    "    def enqueue(self, ele):\n",
    "        new_node = Node(ele)\n",
    "        if self.rear is None:\n",
    "            self.rear = self.front = new_node\n",
    "            self.length += 1\n",
    "            return\n",
    "        self.rear.next = new_node\n",
    "        self.rear = new_node\n",
    "        self.length += 1\n",
    "\n",
    "    def dequeue(self):\n",
    "        if self.isEmpty():\n",
    "            return \"Queue is Empty\"\n",
    "        temp = self.front\n",
    "        self.front = temp.next\n",
    "        self.length -= 1\n",
    "        if self.front is None:\n",
    "            self.rear = None\n",
    "        return temp.data\n",
    "\n",
    "    def isEmpty(self):\n",
    "        return self.length == 0\n",
    "\n",
    "    def size(self):\n",
    "        return self.length\n",
    "    def peek(self):\n",
    "        if self.isEmpty():\n",
    "            return \"Queue is Empty\"\n",
    "        return self.front.data\n",
    "    def printQueue(self):\n",
    "        temp = self.front\n",
    "        while temp:\n",
    "            print(temp.data, end=\" -> \")\n",
    "            temp = temp.next\n",
    "        print()\n",
    "myQueue=Queue()        \n",
    "myQueue.enqueue('A')\n",
    "myQueue.enqueue('B')\n",
    "myQueue.enqueue('C')\n",
    "myQueue.printQueue()\n",
    "myQueue.peek()\n",
    "myQueue.dequeue()\n",
    "myQueue.printQueue()\n",
    "myQueue.size()"
   ]
  },
  {
   "cell_type": "code",
   "execution_count": null,
   "id": "e6c0660f",
   "metadata": {},
   "outputs": [],
   "source": []
  }
 ],
 "metadata": {
  "kernelspec": {
   "display_name": "Python 3",
   "language": "python",
   "name": "python3"
  },
  "language_info": {
   "codemirror_mode": {
    "name": "ipython",
    "version": 3
   },
   "file_extension": ".py",
   "mimetype": "text/x-python",
   "name": "python",
   "nbconvert_exporter": "python",
   "pygments_lexer": "ipython3",
   "version": "3.11.0"
  }
 },
 "nbformat": 4,
 "nbformat_minor": 5
}
