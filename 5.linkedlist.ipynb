{
 "cells": [
  {
   "cell_type": "markdown",
   "id": "687feb06",
   "metadata": {},
   "source": [
    "# Traversal of a Linked List"
   ]
  },
  {
   "cell_type": "code",
   "execution_count": 1,
   "id": "174d8c95",
   "metadata": {},
   "outputs": [
    {
     "name": "stdout",
     "output_type": "stream",
     "text": [
      "7 -> 8 -> 10 -> 9 -> 12 -> null\n"
     ]
    }
   ],
   "source": [
    "class Node:\n",
    "    def __init__(self,data) -> None:\n",
    "        self.data=data\n",
    "        self.next=None\n",
    "def traverseAndPrint(head):\n",
    "    currentNode=head\n",
    "    while currentNode:\n",
    "        print(currentNode.data,end=\" -> \")\n",
    "        currentNode=currentNode.next\n",
    "    print(\"null\")\n",
    "node1=Node(7)    \n",
    "node2=Node(8)    \n",
    "node3=Node(10)    \n",
    "node4=Node(9)    \n",
    "node5=Node(12)    \n",
    "node1.next=node2\n",
    "node2.next=node3\n",
    "node3.next=node4\n",
    "node4.next=node5\n",
    "traverseAndPrint(node1)\n"
   ]
  },
  {
   "cell_type": "markdown",
   "id": "678f9cea",
   "metadata": {},
   "source": [
    "# Find The Lowest Value in a Linked List"
   ]
  },
  {
   "cell_type": "code",
   "execution_count": 4,
   "id": "6b3148c2",
   "metadata": {},
   "outputs": [
    {
     "name": "stdout",
     "output_type": "stream",
     "text": [
      "Min Value----- 7 "
     ]
    }
   ],
   "source": [
    "class Node:\n",
    "    def __init__(self,data) -> None:\n",
    "        self.data=data\n",
    "        self.next=None\n",
    "def findLowesetValue(head):\n",
    "    minvalue=head.data\n",
    "    currentNode=head.next\n",
    "    while currentNode:\n",
    "        if currentNode.data<minvalue:\n",
    "            minvalue=currentNode.data\n",
    "        currentNode=currentNode.next\n",
    "    return minvalue\n",
    "node1=Node(7)    \n",
    "node2=Node(8)    \n",
    "node3=Node(10)    \n",
    "node4=Node(9)    \n",
    "node5=Node(12)    \n",
    "node1.next=node2\n",
    "node2.next=node3\n",
    "node3.next=node4\n",
    "node4.next=node5       \n",
    "print(\"Min Value-----\",findLowesetValue(node1),end=\" \")"
   ]
  },
  {
   "cell_type": "markdown",
   "id": "801f0fea",
   "metadata": {},
   "source": [
    "# Delete a Node in a Linked List"
   ]
  },
  {
   "cell_type": "code",
   "execution_count": 7,
   "id": "72d6b049",
   "metadata": {},
   "outputs": [
    {
     "name": "stdout",
     "output_type": "stream",
     "text": [
      "Value:  7 -> Value:  8 -> Value:  10 -> Value:  12 -> "
     ]
    }
   ],
   "source": [
    "class Node:\n",
    "    def __init__(self,data) -> None:\n",
    "        self.data=data\n",
    "        self.next=None\n",
    "def traverseAndPrint(head):\n",
    "    currentNode=head\n",
    "    while currentNode:\n",
    "        print(\"Value: \",currentNode.data,end=\" -> \")\n",
    "        currentNode=currentNode.next\n",
    "def deleteSpecificNode(head,nodeToDelete):\n",
    "    if head==nodeToDelete:\n",
    "        return head.next\n",
    "    currentNode=head\n",
    "    while currentNode.next and currentNode.next != nodeToDelete:\n",
    "        currentNode=currentNode.next\n",
    "    if currentNode.next is None:\n",
    "        return head\n",
    "    currentNode.next=currentNode.next.next\n",
    "    return head\n",
    "\n",
    "\n",
    "node1=Node(7)    \n",
    "node2=Node(8)    \n",
    "node3=Node(10)    \n",
    "node4=Node(9)    \n",
    "node5=Node(12)    \n",
    "node1.next=node2\n",
    "node2.next=node3\n",
    "node3.next=node4\n",
    "node4.next=node5      \n",
    "# traverseAndPrint(node1)\n",
    "# Delet Node 4\n",
    "node1=deleteSpecificNode(node1,node4)\n",
    "traverseAndPrint(node1)"
   ]
  },
  {
   "cell_type": "code",
   "execution_count": null,
   "id": "afb53f9c",
   "metadata": {},
   "outputs": [],
   "source": []
  }
 ],
 "metadata": {
  "kernelspec": {
   "display_name": "Python 3",
   "language": "python",
   "name": "python3"
  },
  "language_info": {
   "codemirror_mode": {
    "name": "ipython",
    "version": 3
   },
   "file_extension": ".py",
   "mimetype": "text/x-python",
   "name": "python",
   "nbconvert_exporter": "python",
   "pygments_lexer": "ipython3",
   "version": "3.11.0"
  }
 },
 "nbformat": 4,
 "nbformat_minor": 5
}
